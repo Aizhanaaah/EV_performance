{
 "cells": [
  {
   "cell_type": "markdown",
   "id": "9e2b1a4a-1764-447b-afc6-6dadbaa28a1d",
   "metadata": {},
   "source": [
    "#EV-performance-analyisis"
   ]
  },
  {
   "cell_type": "markdown",
   "id": "d7207778-d82c-4546-83b9-bcf0c370232e",
   "metadata": {},
   "source": [
    "### required data below:"
   ]
  },
  {
   "cell_type": "code",
   "execution_count": 88,
   "id": "16e3ea5c-4937-4c52-a47f-f4be92eaa734",
   "metadata": {},
   "outputs": [],
   "source": [
    "evData = [\n",
    "    {'brand':'Porsche', 'model':'Panamera'},\n",
    "    {'brand':'Tesla', 'model':'Model Y'},\n",
    "    {'brand':'Ford','model':'Mustang'},\n",
    "    {'brand':'Lamborgini','model':'Huracan'},\n",
    "    {'brand':'Ferrari','model':'Tirbuto'},\n",
    "    {'brand':'Bughatti','model':'Divo'},\n",
    "    {'brand':'Mclaren','model':'720 S'}\n",
    "]"
   ]
  }
 ],
 "metadata": {
  "kernelspec": {
   "display_name": "Python 3 (ipykernel)",
   "language": "python",
   "name": "python3"
  },
  "language_info": {
   "codemirror_mode": {
    "name": "ipython",
    "version": 3
   },
   "file_extension": ".py",
   "mimetype": "text/x-python",
   "name": "python",
   "nbconvert_exporter": "python",
   "pygments_lexer": "ipython3",
   "version": "3.12.7"
  }
 },
 "nbformat": 4,
 "nbformat_minor": 5
}
